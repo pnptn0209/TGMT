{
 "cells": [
  {
   "cell_type": "code",
   "execution_count": 24,
   "id": "32d0e8c0-7218-43f9-ac10-87e60c2e6e5e",
   "metadata": {},
   "outputs": [],
   "source": [
    "import cv2\n",
    "import numpy as np"
   ]
  },
  {
   "cell_type": "code",
   "execution_count": 26,
   "id": "497455cc-32de-4a16-80fe-24025389b390",
   "metadata": {},
   "outputs": [],
   "source": [
    "def display(title, img):\n",
    "    cv2.imshow(title, img)\n",
    "    cv2.waitKey(0)\n",
    "    cv2.destroyWindow(title)"
   ]
  },
  {
   "cell_type": "code",
   "execution_count": 28,
   "id": "8b5dd354-1e27-4e17-82be-4cd8de1bdbdb",
   "metadata": {},
   "outputs": [],
   "source": [
    "img =  np.zeros((400, 400, 3), dtype=np.uint8)\n",
    "display('Image', img)"
   ]
  },
  {
   "cell_type": "code",
   "execution_count": 30,
   "id": "6d81f9a8-aadf-4f14-80b0-bd3d9bcc41fe",
   "metadata": {},
   "outputs": [],
   "source": [
    "cv2.line(img, (50, 50) , (350, 50), (0,0,255), 2)\n",
    "display('Image', img)"
   ]
  },
  {
   "cell_type": "code",
   "execution_count": 32,
   "id": "ae9a4ec6-7397-4bea-8e05-fa74fbddf80e",
   "metadata": {},
   "outputs": [],
   "source": [
    "cv2.circle(img, (100,100), 50, (0, 255, 0), -1)\n",
    "display('Image', img)"
   ]
  },
  {
   "cell_type": "code",
   "execution_count": 34,
   "id": "0a12ca01-1be0-479f-a579-54e9b721a9ac",
   "metadata": {},
   "outputs": [],
   "source": [
    "cv2.rectangle(img, (100,100),(300,300), (255, 0, 0), -1)\n",
    "display('Image', img)"
   ]
  },
  {
   "cell_type": "code",
   "execution_count": 36,
   "id": "46b92236-9d59-46a5-819e-a24af66bdaf7",
   "metadata": {},
   "outputs": [],
   "source": [
    "content = 'Konichiwa'\n",
    "font = cv2.FONT_HERSHEY_SIMPLEX\n",
    "cv2.putText(img, content, (10, 380), font, 0.6, (255, 255, 255), 2)\n",
    "display('Image', img)"
   ]
  },
  {
   "cell_type": "code",
   "execution_count": null,
   "id": "fe4096c9-0512-4412-b8c3-ffff4581aace",
   "metadata": {},
   "outputs": [],
   "source": []
  }
 ],
 "metadata": {
  "kernelspec": {
   "display_name": "Python 3 (ipykernel)",
   "language": "python",
   "name": "python3"
  },
  "language_info": {
   "codemirror_mode": {
    "name": "ipython",
    "version": 3
   },
   "file_extension": ".py",
   "mimetype": "text/x-python",
   "name": "python",
   "nbconvert_exporter": "python",
   "pygments_lexer": "ipython3",
   "version": "3.12.4"
  }
 },
 "nbformat": 4,
 "nbformat_minor": 5
}
