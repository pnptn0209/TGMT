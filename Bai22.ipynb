{
 "cells": [
  {
   "cell_type": "code",
   "execution_count": 38,
   "id": "04eba9e4-0ccc-49f8-864a-dbd36f272145",
   "metadata": {},
   "outputs": [],
   "source": [
    "import cv2\n",
    "import time"
   ]
  },
  {
   "cell_type": "code",
   "execution_count": 40,
   "id": "b9e99d50-622f-4df6-9894-eaea91779d58",
   "metadata": {},
   "outputs": [],
   "source": [
    "my_video = cv2.VideoCapture('C:/01/vide.mp4')"
   ]
  },
  {
   "cell_type": "code",
   "execution_count": 42,
   "id": "a4d684cf-2db8-475e-8a59-45c9399c1940",
   "metadata": {},
   "outputs": [],
   "source": [
    "cv2.namedWindow('Video Player', cv2.WINDOW_NORMAL)"
   ]
  },
  {
   "cell_type": "code",
   "execution_count": 34,
   "id": "d3908fb4-f57e-4a9a-931b-5e1bcbce10f5",
   "metadata": {},
   "outputs": [],
   "source": [
    "font = cv2.FONT_HERSHEY_SIMPLEX\n",
    "font_color = (255, 255, 255)\n",
    "font_scale = 2\n",
    "font_thicknes = 2"
   ]
  },
  {
   "cell_type": "code",
   "execution_count": 46,
   "id": "b1d397c0-9df5-4a1f-b352-7fd4b4d1d7b2",
   "metadata": {},
   "outputs": [],
   "source": [
    "while True:\n",
    "    start_time = time.time()\n",
    "    ret, frame = my_video.read()\n",
    "    if not ret:\n",
    "        break\n",
    "    end_time = time.time()    \n",
    "    fps = 1/(end_time-start_time)\n",
    "    cv2.putText(frame, f'FPS: {fps:.2f}', (100, 100), font, font_scale, font_color , font_thicknes)\n",
    "    cv2.imshow('Video Player', frame)\n",
    "    if(cv2.waitKey(10)==ord('q')):\n",
    "        break\n",
    "\n",
    "my_video.release()\n",
    "cv2.destroyAllWindows()"
   ]
  },
  {
   "cell_type": "code",
   "execution_count": null,
   "id": "201e3abe-1bd1-4eb2-bc2a-4d3af5bf404f",
   "metadata": {},
   "outputs": [],
   "source": []
  }
 ],
 "metadata": {
  "kernelspec": {
   "display_name": "Python 3 (ipykernel)",
   "language": "python",
   "name": "python3"
  },
  "language_info": {
   "codemirror_mode": {
    "name": "ipython",
    "version": 3
   },
   "file_extension": ".py",
   "mimetype": "text/x-python",
   "name": "python",
   "nbconvert_exporter": "python",
   "pygments_lexer": "ipython3",
   "version": "3.12.4"
  }
 },
 "nbformat": 4,
 "nbformat_minor": 5
}
